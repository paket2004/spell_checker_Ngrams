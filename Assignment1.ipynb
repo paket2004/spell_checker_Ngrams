{
  "cells": [
    {
      "cell_type": "markdown",
      "metadata": {
        "id": "DIgM6C9HYUhm"
      },
      "source": [
        "# Context-sensitive Spelling Correction\n",
        "\n",
        "The goal of the assignment is to implement context-sensitive spelling correction. The input of the code will be a set of text lines and the output will be the same lines with spelling mistakes fixed.\n",
        "\n",
        "Submit the solution of the assignment to Moodle as a link to your GitHub repository containing this notebook.\n",
        "\n",
        "Useful links:\n",
        "- [Norvig's solution](https://norvig.com/spell-correct.html)\n",
        "- [Norvig's dataset](https://norvig.com/big.txt)\n",
        "- [Ngrams data](https://www.ngrams.info/download_coca.asp)\n",
        "\n",
        "Grading:\n",
        "- 60 points - Implement spelling correction\n",
        "- 20 points - Justify your decisions\n",
        "- 20 points - Evaluate on a test set\n"
      ]
    },
    {
      "cell_type": "markdown",
      "metadata": {
        "id": "x-vb8yFOGRDF"
      },
      "source": [
        "## Implement context-sensitive spelling correction\n",
        "\n",
        "Your task is to implement context-sensitive spelling corrector using N-gram language model. The idea is to compute conditional probabilities of possible correction options. For example, the phrase \"dking sport\" should be fixed as \"doing sport\" not \"dying sport\", while \"dking species\" -- as \"dying species\".\n",
        "\n",
        "The best way to start is to analyze [Norvig's solution](https://norvig.com/spell-correct.html) and [N-gram Language Models](https://web.stanford.edu/~jurafsky/slp3/3.pdf).\n",
        "\n",
        "When solving this task, we expect you'll face (and successfully deal with) some problems or make up the ideas of the model improvement. Some of them are:\n",
        "\n",
        "- solving a problem of n-grams frequencies storing for a large corpus;\n",
        "- taking into account keyboard layout and associated misspellings;\n",
        "- efficiency improvement to make the solution faster;\n",
        "- ...\n",
        "\n",
        "Please don't forget to describe such cases, and what you decided to do with them, in the Justification section.\n",
        "\n",
        "##### IMPORTANT:  \n",
        "Your project should not be a mere code copy-paste from somewhere. You must provide:\n",
        "- Your implementation\n",
        "- Analysis of why the implemented approach is suggested\n",
        "- Improvements of the original approach that you have chosen to implement"
      ]
    },
    {
      "cell_type": "code",
      "execution_count": null,
      "metadata": {
        "id": "MoQeEsZvHvvi",
        "colab": {
          "base_uri": "https://localhost:8080/"
        },
        "outputId": "0d31787d-4c09-443e-b5ef-11231a9ed6c3"
      },
      "outputs": [
        {
          "output_type": "stream",
          "name": "stdout",
          "text": [
            "[(275, 'a', 'a'), (31, 'a', 'aaa'), (29, 'a', 'all'), (45, 'a', 'an'), (192, 'a', 'and'), (39, 'a', 'another'), (25, 'a', 'at'), (82, 'a', 'b'), (45, 'a', 'b+'), (26, 'a', 'b-17')]\n"
          ]
        }
      ],
      "source": [
        "import nltk\n",
        "bigram_counts = []\n",
        "def read_bigrams(bigram_path):\n",
        "    with open(bigram_path, \"r\", encoding=\"latin-1\") as file:\n",
        "        for line in file:\n",
        "            parts = line.strip().split(\"\\t\")\n",
        "            if len(parts) == 3:\n",
        "                count = int(parts[0])\n",
        "                w1, w2 = parts[1], parts[2]\n",
        "                bigram_counts.append((count, w1,w2))\n",
        "\n",
        "read_bigrams(\"bigrams.txt\")\n",
        "print(bigram_counts[:10])"
      ]
    },
    {
      "cell_type": "code",
      "execution_count": null,
      "metadata": {
        "id": "AUxq8m-sLa_r"
      },
      "outputs": [],
      "source": [
        "bigram_dict = {(word1, word2): count for count, word1, word2 in bigram_counts}\n"
      ]
    },
    {
      "cell_type": "code",
      "execution_count": null,
      "metadata": {
        "id": "H0OOPdHnMPtt"
      },
      "outputs": [],
      "source": [
        "from collections import defaultdict\n",
        "\n",
        "# number of situation when the 1st word of a bigram appear\n",
        "word1_counts = defaultdict(int)\n",
        "for count, word1, _ in bigram_counts:\n",
        "    word1_counts[word1] += count\n",
        "\n",
        "# compute conditional probabilities for bigrams\n",
        "bigram_probs = { (w1, w2): count / word1_counts[w1] for (w1, w2), count in bigram_dict.items() }\n"
      ]
    },
    {
      "cell_type": "code",
      "source": [
        "import math\n",
        "\n",
        "# keyboard layout with coordinates to caclulate distances so that take into account typos\n",
        "keyboard = {\n",
        "    'q': (0, 0), 'w': (1, 0), 'e': (2, 0), 'r': (3, 0), 't': (4, 0),\n",
        "    'y': (5, 0), 'u': (6, 0), 'i': (7, 0), 'o': (8, 0), 'p': (9, 0),\n",
        "    'a': (0, 1), 's': (1, 1), 'd': (2, 1), 'f': (3, 1), 'g': (4, 1),\n",
        "    'h': (5, 1), 'j': (6, 1), 'k': (7, 1), 'l': (8, 1),\n",
        "    'z': (0, 2), 'x': (1, 2), 'c': (2, 2), 'v': (3, 2), 'b': (4, 2),\n",
        "    'n': (5, 2), 'm': (6, 2)\n",
        "}\n",
        "\n",
        "def calulate_euclidean_distance(w1, w2):\n",
        "    x1, y1 = keyboard.get(w1, (0, 0))\n",
        "    x2, y2 = keyboard.get(w2, (0, 0))\n",
        "    return math.sqrt((x2 - x1)**2 + (y2 - y1)**2)\n",
        "\n",
        "def my_levenshtein_distance(s1, s2):\n",
        "    len_s1 = len(s1)\n",
        "    len_s2 = len(s2)\n",
        "    dp = [[0] * (len_s2 + 1) for _ in range(len_s1 + 1)]\n",
        "    for i in range(len_s1 + 1):\n",
        "        dp[i][0] = i\n",
        "    for j in range(len_s2 + 1):\n",
        "        dp[0][j] = j\n",
        "\n",
        "    for i in range(1, len_s1 + 1):\n",
        "        for j in range(1, len_s2 + 1):\n",
        "            if s1[i - 1] == s2[j - 1]:\n",
        "                cost = 0\n",
        "            else:\n",
        "                cost = calulate_euclidean_distance(s1[i - 1], s2[j - 1]) / 2  # some penalty\n",
        "            dp[i][j] = min(\n",
        "                dp[i - 1][j] + 1,\n",
        "                dp[i][j - 1] + 1,\n",
        "                dp[i - 1][j - 1] + cost\n",
        "            )\n",
        "    return dp[len_s1][len_s2]\n",
        "# s1 = \"gyu\"\n",
        "# s2 = \"guy\"\n",
        "# distance = my_levenshtein_distance(s1, s2)\n",
        "# print(distance)"
      ],
      "metadata": {
        "colab": {
          "base_uri": "https://localhost:8080/"
        },
        "id": "ZAvpMruCMPPE",
        "outputId": "762eb2ce-f9be-4189-a07a-195bd8849b4c"
      },
      "execution_count": null,
      "outputs": [
        {
          "output_type": "stream",
          "name": "stdout",
          "text": [
            "QWERTY-aware Levenshtein distance between 'gyu' and 'guy': 1.0\n"
          ]
        }
      ]
    },
    {
      "cell_type": "code",
      "source": [
        "# generate my vocab for this task\n",
        "keys = bigram_dict.keys()\n",
        "unique_words = {word for tuple_pair in keys for word in tuple_pair}\n",
        "print(len(unique_words))\n",
        "unique_words = list(unique_words)"
      ],
      "metadata": {
        "colab": {
          "base_uri": "https://localhost:8080/"
        },
        "id": "7_Tm0YHk9rdg",
        "outputId": "6223bdd8-d657-4260-b2a2-3890086bd19b"
      },
      "execution_count": null,
      "outputs": [
        {
          "output_type": "stream",
          "name": "stdout",
          "text": [
            "68784\n"
          ]
        }
      ]
    },
    {
      "cell_type": "code",
      "source": [
        "import numpy as np\n",
        "# function to obtain the substitution\n",
        "def get_best_candidate(context_word, incorrect_word, k=30):\n",
        "  distances = []\n",
        "  # calculate distance between incorrect word and all words to retrieve K nearest words from vocab\n",
        "  for i in range(len(unique_words)):\n",
        "    dist = my_levenshtein_distance(unique_words[i], incorrect_word)\n",
        "    distances.append(dist)\n",
        "  distances = np.array(distances)\n",
        "  # print(distances[0])\n",
        "  top_ind = np.argpartition(distances, k)[:k]\n",
        "  # print(distances[0])\n",
        "  # print(distances[top_ind[0]])\n",
        "  # print(top_ind)\n",
        "  # calculate the rating for the obtained on the previous step candidates. Score is bigram_prob divided by distance (less distance is better, therefore divide)\n",
        "  scores = []\n",
        "  for i in range(len(top_ind)):\n",
        "    # print(bigram_probs.get((context_word, unique_words[top_ind[i]])))\n",
        "    if bigram_probs.get((context_word, unique_words[top_ind[i]])) is None:\n",
        "      # print(bigram_probs.get((context_word, unique_words[top_ind[i]])))11\n",
        "      bigram_probs[(context_word, unique_words[top_ind[i]])] = 1e-8\n",
        "    bigram_prob = bigram_probs.get((context_word, unique_words[top_ind[i]]))\n",
        "    score = bigram_prob / distances[top_ind[i]]\n",
        "    scores.append(score)\n",
        "  scores = np.array(scores)\n",
        "  # print(scores)\n",
        "  # print(scores[:5])\n",
        "  max_score_index = np.argmax(scores)\n",
        "  word = unique_words[top_ind[max_score_index]]\n",
        "  # for i in range(len(top_ind)):\n",
        "    # print(unique_words[top_ind[i]], scores[i])\n",
        "  # print(word)\n",
        "  return word"
      ],
      "metadata": {
        "id": "49zlP_gG-IfJ"
      },
      "execution_count": null,
      "outputs": []
    },
    {
      "cell_type": "code",
      "source": [
        "get_best_candidate(\"mobile\", \"pohne\")"
      ],
      "metadata": {
        "colab": {
          "base_uri": "https://localhost:8080/",
          "height": 35
        },
        "id": "j49grEAm_HhK",
        "outputId": "dbc72cdd-4cc7-46b7-c9a7-802d67bfa801"
      },
      "execution_count": null,
      "outputs": [
        {
          "output_type": "execute_result",
          "data": {
            "text/plain": [
              "'phone'"
            ],
            "application/vnd.google.colaboratory.intrinsic+json": {
              "type": "string"
            }
          },
          "metadata": {},
          "execution_count": 194
        }
      ]
    },
    {
      "cell_type": "code",
      "source": [
        "sentence = \"i am the best gyu\"\n",
        "sentence_splitted = sentence.split(\" \")\n",
        "sentence_mask = []\n",
        "for word in sentence_splitted:\n",
        "  if word in unique_words:\n",
        "    sentence_mask.append(True)\n",
        "  else:\n",
        "    sentence_mask.append(False)\n",
        "\n",
        "print(sentence_mask)"
      ],
      "metadata": {
        "colab": {
          "base_uri": "https://localhost:8080/"
        },
        "id": "_u6U0YRnBmDw",
        "outputId": "89c5517f-bfb4-4f90-ba88-8c58c9702aca"
      },
      "execution_count": null,
      "outputs": [
        {
          "output_type": "stream",
          "name": "stdout",
          "text": [
            "[True, True, True, True, False]\n"
          ]
        }
      ]
    },
    {
      "cell_type": "code",
      "source": [
        "# I use mask to correct only the words with the mistakes to avoid redundant typo fixes which will make right word wrong:)\n",
        "def check_and_correct_sentence(sentence):\n",
        "  sentence_splitted = sentence.split(\" \")\n",
        "  sentence_mask = []\n",
        "  for word in sentence_splitted:\n",
        "    if word in unique_words:\n",
        "      sentence_mask.append(True)\n",
        "    else:\n",
        "      sentence_mask.append(False)\n",
        "  # print(sentence_splitted)\n",
        "\n",
        "  for i in range(len(sentence_mask)):\n",
        "    if sentence_mask[i] == False:\n",
        "      word = get_best_candidate(sentence_splitted[i - 1], sentence_splitted[i])\n",
        "      # print(word)\n",
        "      sentence_splitted[i] =  word\n",
        "      # print(sentence_splitted)\n",
        "  # print(sentence_splitted)\n",
        "  new_sentence = \" \".join(sentence_splitted)\n",
        "  # print(new_sentence)\n",
        "  return new_sentence"
      ],
      "metadata": {
        "id": "1sIdtk5nB6n3"
      },
      "execution_count": null,
      "outputs": []
    },
    {
      "cell_type": "code",
      "source": [
        "sentence = \"i am the best gyu\"\n",
        "check_and_correct_sentence(sentence)"
      ],
      "metadata": {
        "colab": {
          "base_uri": "https://localhost:8080/",
          "height": 35
        },
        "id": "oGQFFVWyCjm7",
        "outputId": "a50b9cd5-4625-4304-bef9-25524f89de18"
      },
      "execution_count": null,
      "outputs": [
        {
          "output_type": "execute_result",
          "data": {
            "text/plain": [
              "'i am the best buy'"
            ],
            "application/vnd.google.colaboratory.intrinsic+json": {
              "type": "string"
            }
          },
          "metadata": {},
          "execution_count": 197
        }
      ]
    },
    {
      "cell_type": "markdown",
      "metadata": {
        "id": "oML-5sJwGRLE"
      },
      "source": [
        "## Justify your decisions\n",
        "\n",
        "Write down justificaitons for your implementation choices. For example, these choices could be:\n",
        "- Which ngram dataset to use\n",
        "- Which weights to assign for edit1, edit2 or absent words probabilities\n",
        "- Beam search parameters\n",
        "- etc."
      ]
    },
    {
      "cell_type": "markdown",
      "metadata": {
        "id": "6Xb_twOmVsC6"
      },
      "source": [
        "*Your text here...*"
      ]
    },
    {
      "cell_type": "markdown",
      "metadata": {
        "id": "46rk65S4GRSe"
      },
      "source": [
        "## Evaluate on a test set\n",
        "\n",
        "Your task is to generate a test set and evaluate your work. You may vary the noise probability to generate different datasets with varying compexity (or just take another dataset). Compare your solution to the Norvig's corrector, and report the accuracies."
      ]
    },
    {
      "cell_type": "code",
      "execution_count": null,
      "metadata": {
        "id": "OwZWaX9VVs7B"
      },
      "outputs": [],
      "source": [
        "# Your code here\n",
        "# I just copy 10 sentences from the different websites in the internet.\n",
        "# https://www.twinkl.com/teaching-wiki/descriptive-writing\n",
        "# https://www.thoughtco.com/model-descriptive-paragraphs-1690573\n",
        "orig_sentences = [\n",
        "    \"My most valuable possession is an old, slightly warped blond guitar.\",\n",
        "    \"His pride, however, does not extend to his appearance, for he spends most of his time indoors watching television and growing fat.\",\n",
        "    \"Notice how many different descriptors go into just the sentence about how the cat walks.\",\n",
        "    \"The positioning of items relative to other items is on full display in this paragraph, to give people a clear vision of the layout of the place as a whole.\",\n",
        "    \"Observe how the writer moves clearly from a description of the head of the clown to the body to the unicycle underneath\",\n",
        "    \"The blond wood has been chipped and gouged to gray, particularly where the pick guard fell off years ago\",\n",
        "    \"Instead of the perfect summer day of five minutes ago, the sky was darker than the blackest night. Not only had the sun disappeared, there weren't even any stars.\",\n",
        "    \"Instead of accepting my plan, the council decided to sell the site to a property developer who will knock it down and build a load of luxury apartments.\",\n",
        "    \"This definition of descriptive language could even be used in your everyday speech\",\n",
        "    \"Story writing is usually the kind of writing that people associate with descriptive writing, and not without good reason\"\n",
        "    ]\n",
        "\n",
        "# And I just create 5 sentences with errors for every one correct sentence. 4 with single error and one with errors in all words\n",
        "sentences_with_errors = [[ \"My most valuble possession is an old, slightly warped blond guitar.\", \"My most valuable possesion is an old, slightly warped blond guitar.\", \"My most valuable possession is an old, slightly warped blodn guitar.\", \"My most valuable possession is an old, slightly warped blond guiatr.\", \"My most valuble possesion is an old, slightly warped blodn guiatr.\"],\n",
        "                         [\"His prid, however, does not extend to his appearance, for he spends most of his time indoors watching television and growing fat.\", \"His pride, however, does not extend to his apearance, for he spends most of his time indoors watching television and growing fat.\", \"His pride, however, does not extend to his appearance, for he spends most of his time indors watching television and growing fat.\", \"His pride, however, does not extend to his appearance, for he spends most of his time indoors watching televison and growing fat.\", \"His prid, however, does not extend to his apearance, for he spends most of his time indors watching televison and growing fat.\"],\n",
        "                         [\"Notice how many different descripters go into just the sentence about how the cat walks.\", \"Notice how many different descriptors go into just the sentance about how the cat walks.\", \"Notice how many different descriptors go into just the sentence about how the cat wlaks.\", \"Notice how many different descriptors go into just the sentence about how the cat walks.\", \"Notice how many diffrent descripters go into just the sentance about how the cat wlaks.\"],\n",
        "                         [\"The positioing of items relative to other items is on full display in this paragraph, to give people a clear vision of the layout of the place as a whole.\", \"The positioning of items relative to other items is on full dispaly in this paragraph, to give people a clear vision of the layout of the place as a whole.\", \"The positioning of items relative to other items is on full display in this paragrpah, to give people a clear vision of the layout of the place as a whole.\", \"The positioning of items relative to other items is on full display in this paragraph, to give people a clear vison of the layout of the place as a whole.\", \"The positioing of items relative to other items is on full dispaly in this paragrpah, to give people a clear vison of the layout of the place as a whole.\"],\n",
        "                         [\" Observe how the writer moves clealry from a description of the head of the clown to the body to the unicycle underneath.\", \" Observe how the writer moves clearly from a descripton of the head of the clown to the body to the unicycle underneath.\", \" Observe how the writer moves clearly from a description of the head of the clow to the body to the unicycle underneath.\", \" Observe how the writer moves clearly from a description of the head of the clown to the body to the unicycle underneat.\", \" Observe how the writter moves clealry from a descripton of the head of the clow to the body to the unicycle underneat.\"],\n",
        "                         [\"The blodn wood has been chipped and gouged to gray, particularly where the pick guard fell off years ago.\", \"The blond wood has been chipped and gouged to gray, particulary where the pick guard fell off years ago.\",\"The blond wood has been chipped and gouged to gray, particularly where the pick gaurd fell off years ago.\", \"The blond wood has been chipped and gouged to gray, particularly where the pick guard fel off years ago.\", \"The blodn wood has been chipped and gouged to gray, particulary where the pick gaurd fel off years ago.\"],\n",
        "                         [\"Instead of the perfect sumer day of five minutes ago, the sky was darker than the blackest night. Not only had the sun disappeared, there weren't even any stars.\", \"Instead of the perfect summer day of five minuts ago, the sky was darker than the blackest night. Not only had the sun disappeared, there weren't even any stars.\", \"Instead of the perfect summer day of five minutes ago, the sky was darker than the blackest night. Not only had the sun disapeared, there weren't even any stars.\", \"Instead of the perfect summer day of five minutes ago, the sky was darker than the blackest night. Not only had the sun disappeared, there werent even any stars.\", \"Instead of the perfect sumer day of five minuts ago, the sky was darker than the blackest night. Not only had the sun disapeared, there werent even any stars.\"],\n",
        "                         [\"Instead of acepting my plan, the council decided to sell the site to a property developer who will knock it down and build a load of luxury apartments.\", \"Instead of accepting my plan, the council decided to sell the site to a property develper who will knock it down and build a load of luxury apartments.\", \"Instead of accepting my plan, the council decided to sell the site to a property developer who will knock it down and bild a load of luxury apartments.\", \"Instead of accepting my plan, the council decided to sell the site to a property developer who will knock it down and build a load of luxury apartmets.\", \"Instead of acepting my plan, the council decided to sell the site to a property develper who will knock it down and bild a load of luxury apartmets.\"],\n",
        "                         [\"This definiton of descriptive language could even be used in your everyday speech.\", \"This definition of descriptive langauge could even be used in your everyday speech.\", \"This definition of descriptive language could even be used in your everyday speach.\", \"This definition of descriptive language could even be used in your everydy speech.\", \"This definiton of descriptive langauge could even be used in your everydy speach.\"],\n",
        "                         [\"Story writing is usually the kind of writing that people asociate with descriptive writing, and not without good reason.\", \"Story writing is usually the kind of writing that people associate with descriptive writing, and not without good reaosn.\", \"Story writing is usually the kind of writing that peple associate with descriptive writing, and not without good reason.\", \"Story writing is usually the kind of writing that people associate with descriptive writing, ant not without good reason.\", \"Story writting is usually the kind of writing that peple asociate with descriptive writing, ant not without good reaosn.\"],\n",
        "                         ]\n"
      ]
    },
    {
      "cell_type": "code",
      "source": [
        "import string\n",
        "translator = str.maketrans('', '', string.punctuation)\n",
        "\n",
        "# Remove punctuation\n",
        "def convert_sentence_to_proper_format(sentece_to_clean):\n",
        "  # print(sentece_to_clean)\n",
        "  sentece_to_clean = sentece_to_clean.strip()\n",
        "  sentece_to_clean = sentece_to_clean.lower()\n",
        "  clean_text = sentece_to_clean.translate(translator)\n",
        "  # print(clean_text)\n",
        "  return clean_text"
      ],
      "metadata": {
        "id": "jz-WS19eUnbR"
      },
      "execution_count": null,
      "outputs": []
    },
    {
      "cell_type": "code",
      "source": [
        "clean_sentences_with_errors = []\n",
        "for i in range(len(sentences_with_errors)):\n",
        "  new_list = []\n",
        "  for j in range(len(sentences_with_errors[i])):\n",
        "    new_list.append(convert_sentence_to_proper_format(sentences_with_errors[i][j]))\n",
        "  clean_sentences_with_errors.append(new_list)\n",
        "print(clean_sentences_with_errors)"
      ],
      "metadata": {
        "colab": {
          "base_uri": "https://localhost:8080/"
        },
        "id": "oaPmm-BJVou0",
        "outputId": "44af404e-b31e-4fad-d8f7-9a39ba3217b2"
      },
      "execution_count": null,
      "outputs": [
        {
          "output_type": "stream",
          "name": "stdout",
          "text": [
            "[['my most valuble possession is an old slightly warped blond guitar', 'my most valuable possesion is an old slightly warped blond guitar', 'my most valuable possession is an old slightly warped blodn guitar', 'my most valuable possession is an old slightly warped blond guiatr', 'my most valuble possesion is an old slightly warped blodn guiatr'], ['his prid however does not extend to his appearance for he spends most of his time indoors watching television and growing fat', 'his pride however does not extend to his apearance for he spends most of his time indoors watching television and growing fat', 'his pride however does not extend to his appearance for he spends most of his time indors watching television and growing fat', 'his pride however does not extend to his appearance for he spends most of his time indoors watching televison and growing fat', 'his prid however does not extend to his apearance for he spends most of his time indors watching televison and growing fat'], ['notice how many different descripters go into just the sentence about how the cat walks', 'notice how many different descriptors go into just the sentance about how the cat walks', 'notice how many different descriptors go into just the sentence about how the cat wlaks', 'notice how many different descriptors go into just the sentence about how the cat walks', 'notice how many diffrent descripters go into just the sentance about how the cat wlaks'], ['the positioing of items relative to other items is on full display in this paragraph to give people a clear vision of the layout of the place as a whole', 'the positioning of items relative to other items is on full dispaly in this paragraph to give people a clear vision of the layout of the place as a whole', 'the positioning of items relative to other items is on full display in this paragrpah to give people a clear vision of the layout of the place as a whole', 'the positioning of items relative to other items is on full display in this paragraph to give people a clear vison of the layout of the place as a whole', 'the positioing of items relative to other items is on full dispaly in this paragrpah to give people a clear vison of the layout of the place as a whole'], ['observe how the writer moves clealry from a description of the head of the clown to the body to the unicycle underneath', 'observe how the writer moves clearly from a descripton of the head of the clown to the body to the unicycle underneath', 'observe how the writer moves clearly from a description of the head of the clow to the body to the unicycle underneath', 'observe how the writer moves clearly from a description of the head of the clown to the body to the unicycle underneat', 'observe how the writter moves clealry from a descripton of the head of the clow to the body to the unicycle underneat'], ['the blodn wood has been chipped and gouged to gray particularly where the pick guard fell off years ago', 'the blond wood has been chipped and gouged to gray particulary where the pick guard fell off years ago', 'the blond wood has been chipped and gouged to gray particularly where the pick gaurd fell off years ago', 'the blond wood has been chipped and gouged to gray particularly where the pick guard fel off years ago', 'the blodn wood has been chipped and gouged to gray particulary where the pick gaurd fel off years ago'], ['instead of the perfect sumer day of five minutes ago the sky was darker than the blackest night not only had the sun disappeared there werent even any stars', 'instead of the perfect summer day of five minuts ago the sky was darker than the blackest night not only had the sun disappeared there werent even any stars', 'instead of the perfect summer day of five minutes ago the sky was darker than the blackest night not only had the sun disapeared there werent even any stars', 'instead of the perfect summer day of five minutes ago the sky was darker than the blackest night not only had the sun disappeared there werent even any stars', 'instead of the perfect sumer day of five minuts ago the sky was darker than the blackest night not only had the sun disapeared there werent even any stars'], ['instead of acepting my plan the council decided to sell the site to a property developer who will knock it down and build a load of luxury apartments', 'instead of accepting my plan the council decided to sell the site to a property develper who will knock it down and build a load of luxury apartments', 'instead of accepting my plan the council decided to sell the site to a property developer who will knock it down and bild a load of luxury apartments', 'instead of accepting my plan the council decided to sell the site to a property developer who will knock it down and build a load of luxury apartmets', 'instead of acepting my plan the council decided to sell the site to a property develper who will knock it down and bild a load of luxury apartmets'], ['this definiton of descriptive language could even be used in your everyday speech', 'this definition of descriptive langauge could even be used in your everyday speech', 'this definition of descriptive language could even be used in your everyday speach', 'this definition of descriptive language could even be used in your everydy speech', 'this definiton of descriptive langauge could even be used in your everydy speach'], ['story writing is usually the kind of writing that people asociate with descriptive writing and not without good reason', 'story writing is usually the kind of writing that people associate with descriptive writing and not without good reaosn', 'story writing is usually the kind of writing that peple associate with descriptive writing and not without good reason', 'story writing is usually the kind of writing that people associate with descriptive writing ant not without good reason', 'story writting is usually the kind of writing that peple asociate with descriptive writing ant not without good reaosn']]\n"
          ]
        }
      ]
    },
    {
      "cell_type": "code",
      "source": [
        "all_corr_sent = []\n",
        "for i in range(len(clean_sentences_with_errors)):\n",
        "  corr_sent = []\n",
        "  for j in range(len(clean_sentences_with_errors[i])):\n",
        "    corrected_sentence = check_and_correct_sentence(clean_sentences_with_errors[i][j])\n",
        "    corr_sent.append(corrected_sentence)\n",
        "  all_corr_sent.append(corr_sent)\n",
        "print(all_corr_sent)"
      ],
      "metadata": {
        "colab": {
          "base_uri": "https://localhost:8080/"
        },
        "id": "n9gMLVk2ZXRW",
        "outputId": "eb08f320-dd14-4bc6-df2e-6d9e2d11fecc"
      },
      "execution_count": null,
      "outputs": [
        {
          "output_type": "stream",
          "name": "stdout",
          "text": [
            "[['my most valuable possession is an old slightly warped blond guitar', 'my most valuable possession is an old slightly warped blond guitar', 'my most valuable possession is an old slightly warped blown guitar', 'my most valuable possession is an old slightly warped blond guitar', 'my most valuable possession is an old slightly warped blown guitar'], ['his pride however does not extend to his appearance for he spends most of his time indoors watching television and growing fat', 'his pride however does not extend to his appearance for he spends most of his time indoors watching television and growing fat', 'his pride however does not extend to his appearance for he spends most of his time indoors watching television and growing fat', 'his pride however does not extend to his appearance for he spends most of his time indoors watching television and growing fat', 'his pride however does not extend to his appearance for he spends most of his time indoors watching television and growing fat'], ['notice how many different descriptors go into just the sentence about how the cat walks', 'notice how many different descriptors go into just the senate about how the cat walks', 'notice how many different descriptors go into just the sentence about how the cat was', 'notice how many different descriptors go into just the sentence about how the cat walks', 'notice how many different descriptors go into just the senate about how the cat was'], ['the position of items relative to other items is on full display in this paragraph to give people a clear vision of the layout of the place as a whole', 'the positioning of items relative to other items is on full display in this paragraph to give people a clear vision of the layout of the place as a whole', 'the positioning of items relative to other items is on full display in this paragraph to give people a clear vision of the layout of the place as a whole', 'the positioning of items relative to other items is on full display in this paragraph to give people a clear vision of the layout of the place as a whole', 'the position of items relative to other items is on full display in this paragraph to give people a clear vision of the layout of the place as a whole'], ['observe how the writer moves cleary from a description of the head of the clown to the body to the unicycle underneath', 'observe how the writer moves clearly from a description of the head of the clown to the body to the unicycle underneath', 'observe how the writer moves clearly from a description of the head of the low to the body to the unicycle underneath', 'observe how the writer moves clearly from a description of the head of the clown to the body to the unicycle underneath', 'observe how the writer moves cleary from a description of the head of the low to the body to the unicycle underneath'], ['the good wood has been chipped and gouged to gray particularly where the pick guard fell off years ago', 'the blond wood has been chipped and gouged to gray particular where the pick guard fell off years ago', 'the blond wood has been chipped and gouged to gray particularly where the pick baird fell off years ago', 'the blond wood has been chipped and gouged to gray particularly where the pick guard rel off years ago', 'the good wood has been chipped and gouged to gray particular where the pick baird rel off years ago'], ['instead of the perfect summer day of five minutes ago the sky was darker than the blackest night not only had the sun disappeared there werent even any stars', 'instead of the perfect summer day of five minutes ago the sky was darker than the blackest night not only had the sun disappeared there werent even any stars', 'instead of the perfect summer day of five minutes ago the sky was darker than the blackest night not only had the sun disappeared there werent even any stars', 'instead of the perfect summer day of five minutes ago the sky was darker than the blackest night not only had the sun disappeared there werent even any stars', 'instead of the perfect summer day of five minutes ago the sky was darker than the blackest night not only had the sun disappeared there werent even any stars'], ['instead of spring my plan the council decided to sell the site to a property developer who will knock it down and build a load of luxury apartments', 'instead of accepting my plan the council decided to sell the site to a property developer who will knock it down and build a load of luxury apartments', 'instead of accepting my plan the council decided to sell the site to a property developer who will knock it down and told a load of luxury apartments', 'instead of accepting my plan the council decided to sell the site to a property developer who will knock it down and build a load of luxury apartments', 'instead of spring my plan the council decided to sell the site to a property developer who will knock it down and told a load of luxury apartments'], ['this definition of descriptive language could even be used in your everyday speech', 'this definition of descriptive language could even be used in your everyday speech', 'this definition of descriptive language could even be used in your everyday speech', 'this definition of descriptive language could even be used in your energy speech', 'this definition of descriptive language could even be used in your energy peach'], ['story writing is usually the kind of writing that people associate with descriptive writing and not without good reason', 'story writing is usually the kind of writing that people associate with descriptive writing and not without good reason', 'story writing is usually the kind of writing that people associate with descriptive writing and not without good reason', 'story writing is usually the kind of writing that people associate with descriptive writing ant not without good reason', 'story writhing is usually the kind of writing that people associate with descriptive writing ant not without good reason']]\n"
          ]
        }
      ]
    },
    {
      "cell_type": "code",
      "source": [
        "converted_orig_sentences = []\n",
        "for i in range(len(orig_sentences)):\n",
        "    converted_orig_sentences.append(convert_sentence_to_proper_format(orig_sentences[i]))\n",
        "print(converted_orig_sentences)"
      ],
      "metadata": {
        "colab": {
          "base_uri": "https://localhost:8080/"
        },
        "id": "6SxzqPKobFBc",
        "outputId": "bd5a8a1a-a2de-4fea-e23a-cd1ad2db7ee1"
      },
      "execution_count": null,
      "outputs": [
        {
          "output_type": "stream",
          "name": "stdout",
          "text": [
            "['my most valuable possession is an old slightly warped blond guitar', 'his pride however does not extend to his appearance for he spends most of his time indoors watching television and growing fat', 'notice how many different descriptors go into just the sentence about how the cat walks', 'the positioning of items relative to other items is on full display in this paragraph to give people a clear vision of the layout of the place as a whole', 'observe how the writer moves clearly from a description of the head of the clown to the body to the unicycle underneath', 'the blond wood has been chipped and gouged to gray particularly where the pick guard fell off years ago', 'instead of the perfect summer day of five minutes ago the sky was darker than the blackest night not only had the sun disappeared there werent even any stars', 'instead of accepting my plan the council decided to sell the site to a property developer who will knock it down and build a load of luxury apartments', 'this definition of descriptive language could even be used in your everyday speech', 'story writing is usually the kind of writing that people associate with descriptive writing and not without good reason']\n"
          ]
        }
      ]
    },
    {
      "cell_type": "code",
      "source": [
        "count = 0\n",
        "for i in range(len(clean_sentences_with_errors)):\n",
        "  for j in range(len(clean_sentences_with_errors[i])):\n",
        "    if converted_orig_sentences[i] == all_corr_sent[i][j]:\n",
        "      count += 1\n",
        "      print(all_corr_sent[i][j])\n",
        "print(\"My dumb spellchecker accuracy\",count/50)"
      ],
      "metadata": {
        "colab": {
          "base_uri": "https://localhost:8080/"
        },
        "id": "VBCE1FbQbYrg",
        "outputId": "62d8e789-a57b-44c9-ccde-ee546ddd994b"
      },
      "execution_count": null,
      "outputs": [
        {
          "output_type": "stream",
          "name": "stdout",
          "text": [
            "my most valuable possession is an old slightly warped blond guitar\n",
            "my most valuable possession is an old slightly warped blond guitar\n",
            "my most valuable possession is an old slightly warped blond guitar\n",
            "his pride however does not extend to his appearance for he spends most of his time indoors watching television and growing fat\n",
            "his pride however does not extend to his appearance for he spends most of his time indoors watching television and growing fat\n",
            "his pride however does not extend to his appearance for he spends most of his time indoors watching television and growing fat\n",
            "his pride however does not extend to his appearance for he spends most of his time indoors watching television and growing fat\n",
            "his pride however does not extend to his appearance for he spends most of his time indoors watching television and growing fat\n",
            "notice how many different descriptors go into just the sentence about how the cat walks\n",
            "notice how many different descriptors go into just the sentence about how the cat walks\n",
            "the positioning of items relative to other items is on full display in this paragraph to give people a clear vision of the layout of the place as a whole\n",
            "the positioning of items relative to other items is on full display in this paragraph to give people a clear vision of the layout of the place as a whole\n",
            "the positioning of items relative to other items is on full display in this paragraph to give people a clear vision of the layout of the place as a whole\n",
            "observe how the writer moves clearly from a description of the head of the clown to the body to the unicycle underneath\n",
            "observe how the writer moves clearly from a description of the head of the clown to the body to the unicycle underneath\n",
            "instead of the perfect summer day of five minutes ago the sky was darker than the blackest night not only had the sun disappeared there werent even any stars\n",
            "instead of the perfect summer day of five minutes ago the sky was darker than the blackest night not only had the sun disappeared there werent even any stars\n",
            "instead of the perfect summer day of five minutes ago the sky was darker than the blackest night not only had the sun disappeared there werent even any stars\n",
            "instead of the perfect summer day of five minutes ago the sky was darker than the blackest night not only had the sun disappeared there werent even any stars\n",
            "instead of the perfect summer day of five minutes ago the sky was darker than the blackest night not only had the sun disappeared there werent even any stars\n",
            "instead of accepting my plan the council decided to sell the site to a property developer who will knock it down and build a load of luxury apartments\n",
            "instead of accepting my plan the council decided to sell the site to a property developer who will knock it down and build a load of luxury apartments\n",
            "this definition of descriptive language could even be used in your everyday speech\n",
            "this definition of descriptive language could even be used in your everyday speech\n",
            "this definition of descriptive language could even be used in your everyday speech\n",
            "story writing is usually the kind of writing that people associate with descriptive writing and not without good reason\n",
            "story writing is usually the kind of writing that people associate with descriptive writing and not without good reason\n",
            "story writing is usually the kind of writing that people associate with descriptive writing and not without good reason\n",
            "My dumb spellchecker accuracy 0.56\n"
          ]
        }
      ]
    },
    {
      "cell_type": "markdown",
      "source": [
        "Norvig corrector\n"
      ],
      "metadata": {
        "id": "aI-7JO9_clwO"
      }
    },
    {
      "cell_type": "code",
      "source": [
        "# just copy-paste from  https://norvig.com/spell-correct.html\n",
        "import re\n",
        "from collections import Counter\n",
        "\n",
        "def words(text):\n",
        "    return re.findall(r'\\w+', text.lower())\n",
        "\n",
        "WORDS = Counter(words(open('big.txt').read()))\n",
        "\n",
        "def P(word, N=sum(WORDS.values())):\n",
        "    \"Probability of `word`.\"\n",
        "    return WORDS[word] / N\n",
        "\n",
        "def correction(word):\n",
        "    \"Most probable spelling correction for word.\"\n",
        "    return max(candidates(word), key=P)\n",
        "\n",
        "def candidates(word):\n",
        "    \"Generate possible spelling corrections for word.\"\n",
        "    return (known([word]) or known(edits1(word)) or known(edits2(word)) or [word])\n",
        "\n",
        "def known(words):\n",
        "    \"The subset of `words` that appear in the dictionary of WORDS.\"\n",
        "    return set(w for w in words if w in WORDS)\n",
        "\n",
        "def edits1(word):\n",
        "    \"All edits that are one edit away from `word`.\"\n",
        "    letters    = 'abcdefghijklmnopqrstuvwxyz'\n",
        "    splits     = [(word[:i], word[i:])    for i in range(len(word) + 1)]\n",
        "    deletes    = [L + R[1:]               for L, R in splits if R]\n",
        "    transposes = [L + R[1] + R[0] + R[2:] for L, R in splits if len(R) > 1]\n",
        "    replaces   = [L + c + R[1:]           for L, R in splits if R for c in letters]\n",
        "    inserts    = [L + c + R               for L, R in splits for c in letters]\n",
        "    return set(deletes + transposes + replaces + inserts)\n",
        "\n",
        "def edits2(word):\n",
        "    \"All edits that are two edits away from `word`.\"\n",
        "    return (e2 for e1 in edits1(word) for e2 in edits1(e1))"
      ],
      "metadata": {
        "id": "5KUTCSR0cOA_"
      },
      "execution_count": null,
      "outputs": []
    },
    {
      "cell_type": "code",
      "source": [
        "def correct_sentence_norvig(sentence):\n",
        "    return ' '.join(correction(word) for word in sentence.split())\n",
        "norvig_corrected_sentences = []\n",
        "for i in range(len(clean_sentences_with_errors)):\n",
        "  norvig_one_sent = []\n",
        "  for j in range(len(clean_sentences_with_errors[i])):\n",
        "    # print(i, j)\n",
        "    # print(clean_sentences_with_errors[i][j])\n",
        "    norvig_one_sent.append(correct_sentence_norvig(clean_sentences_with_errors[i][j]))\n",
        "  norvig_corrected_sentences.append(norvig_one_sent)\n",
        "print(norvig_corrected_sentences)"
      ],
      "metadata": {
        "colab": {
          "base_uri": "https://localhost:8080/"
        },
        "id": "hlRoEsRCdd1W",
        "outputId": "431b07ca-aaa6-4e27-f951-503774c403ca"
      },
      "execution_count": null,
      "outputs": [
        {
          "output_type": "stream",
          "name": "stdout",
          "text": [
            "[['my most valuable possession is an old slightly warped blood guitar', 'my most valuable possession is an old slightly warped blood guitar', 'my most valuable possession is an old slightly warped blown guitar', 'my most valuable possession is an old slightly warped blood guitar', 'my most valuable possession is an old slightly warped blown guitar'], ['his paid however does not extend to his appearance for he spends most of his time indoors watching television and growing fat', 'his pride however does not extend to his appearance for he spends most of his time indoors watching television and growing fat', 'his pride however does not extend to his appearance for he spends most of his time indoors watching television and growing fat', 'his pride however does not extend to his appearance for he spends most of his time indoors watching television and growing fat', 'his paid however does not extend to his appearance for he spends most of his time indoors watching television and growing fat'], ['notice how many different descripters go into just the sentence about how the cat walks', 'notice how many different descriptions go into just the sentence about how the cat walks', 'notice how many different descriptions go into just the sentence about how the cat walks', 'notice how many different descriptions go into just the sentence about how the cat walks', 'notice how many different descripters go into just the sentence about how the cat walks'], ['the position of items relative to other items is on full display in this paragraph to give people a clear vision of the layout of the place as a whole', 'the petitioning of items relative to other items is on full display in this paragraph to give people a clear vision of the layout of the place as a whole', 'the petitioning of items relative to other items is on full display in this paragraph to give people a clear vision of the layout of the place as a whole', 'the petitioning of items relative to other items is on full display in this paragraph to give people a clear vision of the layout of the place as a whole', 'the position of items relative to other items is on full display in this paragraph to give people a clear vision of the layout of the place as a whole'], ['observe how the writer moves clearly from a description of the head of the clown to the body to the bicycle underneath', 'observe how the writer moves clearly from a description of the head of the clown to the body to the bicycle underneath', 'observe how the writer moves clearly from a description of the head of the low to the body to the bicycle underneath', 'observe how the writer moves clearly from a description of the head of the clown to the body to the bicycle underneath', 'observe how the written moves clearly from a description of the head of the low to the body to the bicycle underneath'], ['the blown wood has been shipped and gouged to gray particularly where the pick guard fell off years ago', 'the blood wood has been shipped and gouged to gray particularly where the pick guard fell off years ago', 'the blood wood has been shipped and gouged to gray particularly where the pick guard fell off years ago', 'the blood wood has been shipped and gouged to gray particularly where the pick guard felt off years ago', 'the blown wood has been shipped and gouged to gray particularly where the pick guard felt off years ago'], ['instead of the perfect summer day of five minutes ago the sky was darker than the blackest night not only had the sun disappeared there weren even any stars', 'instead of the perfect summer day of five minutes ago the sky was darker than the blackest night not only had the sun disappeared there weren even any stars', 'instead of the perfect summer day of five minutes ago the sky was darker than the blackest night not only had the sun disappeared there weren even any stars', 'instead of the perfect summer day of five minutes ago the sky was darker than the blackest night not only had the sun disappeared there weren even any stars', 'instead of the perfect summer day of five minutes ago the sky was darker than the blackest night not only had the sun disappeared there weren even any stars'], ['instead of accepting my plan the council decided to sell the site to a property developer who will knock it down and build a load of luxury apartments', 'instead of accepting my plan the council decided to sell the site to a property developer who will knock it down and build a load of luxury apartments', 'instead of accepting my plan the council decided to sell the site to a property developer who will knock it down and bill a load of luxury apartments', 'instead of accepting my plan the council decided to sell the site to a property developer who will knock it down and build a load of luxury apartments', 'instead of accepting my plan the council decided to sell the site to a property developer who will knock it down and bill a load of luxury apartments'], ['this definition of descriptive language could even be used in your everyday speech', 'this definition of descriptive language could even be used in your everyday speech', 'this definition of descriptive language could even be used in your everyday speech', 'this definition of descriptive language could even be used in your everyday speech', 'this definition of descriptive language could even be used in your everyday speech'], ['story writing is usually the kind of writing that people associate with descriptive writing and not without good reason', 'story writing is usually the kind of writing that people associate with descriptive writing and not without good reason', 'story writing is usually the kind of writing that people associate with descriptive writing and not without good reason', 'story writing is usually the kind of writing that people associate with descriptive writing ant not without good reason', 'story writing is usually the kind of writing that people associate with descriptive writing ant not without good reason']]\n"
          ]
        }
      ]
    },
    {
      "cell_type": "code",
      "source": [
        "count_norvig = 0\n",
        "for i in range(len(norvig_corrected_sentences)):\n",
        "  for j in range(len(norvig_corrected_sentences[i])):\n",
        "    if converted_orig_sentences[i] == norvig_corrected_sentences[i][j]:\n",
        "      count_norvig += 1\n",
        "      print(all_corr_sent[i][j])\n",
        "print(\"Norvig accuracy\", count_norvig/50)"
      ],
      "metadata": {
        "colab": {
          "base_uri": "https://localhost:8080/"
        },
        "id": "VySyLdWSeRZ2",
        "outputId": "013bf0ae-544a-4041-b054-a45f464e6521"
      },
      "execution_count": null,
      "outputs": [
        {
          "output_type": "stream",
          "name": "stdout",
          "text": [
            "his pride however does not extend to his appearance for he spends most of his time indoors watching television and growing fat\n",
            "his pride however does not extend to his appearance for he spends most of his time indoors watching television and growing fat\n",
            "his pride however does not extend to his appearance for he spends most of his time indoors watching television and growing fat\n",
            "instead of spring my plan the council decided to sell the site to a property developer who will knock it down and build a load of luxury apartments\n",
            "instead of accepting my plan the council decided to sell the site to a property developer who will knock it down and build a load of luxury apartments\n",
            "instead of accepting my plan the council decided to sell the site to a property developer who will knock it down and build a load of luxury apartments\n",
            "this definition of descriptive language could even be used in your everyday speech\n",
            "this definition of descriptive language could even be used in your everyday speech\n",
            "this definition of descriptive language could even be used in your everyday speech\n",
            "this definition of descriptive language could even be used in your energy speech\n",
            "this definition of descriptive language could even be used in your energy peach\n",
            "story writing is usually the kind of writing that people associate with descriptive writing and not without good reason\n",
            "story writing is usually the kind of writing that people associate with descriptive writing and not without good reason\n",
            "story writing is usually the kind of writing that people associate with descriptive writing and not without good reason\n",
            "Norvig accuracy 0.28\n"
          ]
        }
      ]
    },
    {
      "cell_type": "code",
      "source": [
        "print(norvig_corrected_sentences)"
      ],
      "metadata": {
        "colab": {
          "base_uri": "https://localhost:8080/"
        },
        "id": "iap2wMYMt0xi",
        "outputId": "130baf23-576e-4a1f-e531-b789fe6610f3"
      },
      "execution_count": null,
      "outputs": [
        {
          "output_type": "stream",
          "name": "stdout",
          "text": [
            "[['my most valuable possession is an old slightly warped blood guitar', 'my most valuable possession is an old slightly warped blood guitar', 'my most valuable possession is an old slightly warped blown guitar', 'my most valuable possession is an old slightly warped blood guitar', 'my most valuable possession is an old slightly warped blown guitar'], ['his paid however does not extend to his appearance for he spends most of his time indoors watching television and growing fat', 'his pride however does not extend to his appearance for he spends most of his time indoors watching television and growing fat', 'his pride however does not extend to his appearance for he spends most of his time indoors watching television and growing fat', 'his pride however does not extend to his appearance for he spends most of his time indoors watching television and growing fat', 'his paid however does not extend to his appearance for he spends most of his time indoors watching television and growing fat'], ['notice how many different descripters go into just the sentence about how the cat walks', 'notice how many different descriptions go into just the sentence about how the cat walks', 'notice how many different descriptions go into just the sentence about how the cat walks', 'notice how many different descriptions go into just the sentence about how the cat walks', 'notice how many different descripters go into just the sentence about how the cat walks'], ['the position of items relative to other items is on full display in this paragraph to give people a clear vision of the layout of the place as a whole', 'the petitioning of items relative to other items is on full display in this paragraph to give people a clear vision of the layout of the place as a whole', 'the petitioning of items relative to other items is on full display in this paragraph to give people a clear vision of the layout of the place as a whole', 'the petitioning of items relative to other items is on full display in this paragraph to give people a clear vision of the layout of the place as a whole', 'the position of items relative to other items is on full display in this paragraph to give people a clear vision of the layout of the place as a whole'], ['observe how the writer moves clearly from a description of the head of the clown to the body to the bicycle underneath', 'observe how the writer moves clearly from a description of the head of the clown to the body to the bicycle underneath', 'observe how the writer moves clearly from a description of the head of the low to the body to the bicycle underneath', 'observe how the writer moves clearly from a description of the head of the clown to the body to the bicycle underneath', 'observe how the written moves clearly from a description of the head of the low to the body to the bicycle underneath'], ['the blown wood has been shipped and gouged to gray particularly where the pick guard fell off years ago', 'the blood wood has been shipped and gouged to gray particularly where the pick guard fell off years ago', 'the blood wood has been shipped and gouged to gray particularly where the pick guard fell off years ago', 'the blood wood has been shipped and gouged to gray particularly where the pick guard felt off years ago', 'the blown wood has been shipped and gouged to gray particularly where the pick guard felt off years ago'], ['instead of the perfect summer day of five minutes ago the sky was darker than the blackest night not only had the sun disappeared there weren even any stars', 'instead of the perfect summer day of five minutes ago the sky was darker than the blackest night not only had the sun disappeared there weren even any stars', 'instead of the perfect summer day of five minutes ago the sky was darker than the blackest night not only had the sun disappeared there weren even any stars', 'instead of the perfect summer day of five minutes ago the sky was darker than the blackest night not only had the sun disappeared there weren even any stars', 'instead of the perfect summer day of five minutes ago the sky was darker than the blackest night not only had the sun disappeared there weren even any stars'], ['instead of accepting my plan the council decided to sell the site to a property developer who will knock it down and build a load of luxury apartments', 'instead of accepting my plan the council decided to sell the site to a property developer who will knock it down and build a load of luxury apartments', 'instead of accepting my plan the council decided to sell the site to a property developer who will knock it down and bill a load of luxury apartments', 'instead of accepting my plan the council decided to sell the site to a property developer who will knock it down and build a load of luxury apartments', 'instead of accepting my plan the council decided to sell the site to a property developer who will knock it down and bill a load of luxury apartments'], ['this definition of descriptive language could even be used in your everyday speech', 'this definition of descriptive language could even be used in your everyday speech', 'this definition of descriptive language could even be used in your everyday speech', 'this definition of descriptive language could even be used in your everyday speech', 'this definition of descriptive language could even be used in your everyday speech'], ['story writing is usually the kind of writing that people associate with descriptive writing and not without good reason', 'story writing is usually the kind of writing that people associate with descriptive writing and not without good reason', 'story writing is usually the kind of writing that people associate with descriptive writing and not without good reason', 'story writing is usually the kind of writing that people associate with descriptive writing ant not without good reason', 'story writing is usually the kind of writing that people associate with descriptive writing ant not without good reason']]\n"
          ]
        }
      ]
    },
    {
      "cell_type": "code",
      "source": [
        "print(converted_orig_sentences)"
      ],
      "metadata": {
        "colab": {
          "base_uri": "https://localhost:8080/"
        },
        "id": "DmrjTmZ3t906",
        "outputId": "01d2abe1-3776-41b4-9ab6-562e6cfd5ea6"
      },
      "execution_count": null,
      "outputs": [
        {
          "output_type": "stream",
          "name": "stdout",
          "text": [
            "['my most valuable possession is an old slightly warped blond guitar', 'his pride however does not extend to his appearance for he spends most of his time indoors watching television and growing fat', 'notice how many different descriptors go into just the sentence about how the cat walks', 'the positioning of items relative to other items is on full display in this paragraph to give people a clear vision of the layout of the place as a whole', 'observe how the writer moves clearly from a description of the head of the clown to the body to the unicycle underneath', 'the blond wood has been chipped and gouged to gray particularly where the pick guard fell off years ago', 'instead of the perfect summer day of five minutes ago the sky was darker than the blackest night not only had the sun disappeared there werent even any stars', 'instead of accepting my plan the council decided to sell the site to a property developer who will knock it down and build a load of luxury apartments', 'this definition of descriptive language could even be used in your everyday speech', 'story writing is usually the kind of writing that people associate with descriptive writing and not without good reason']\n"
          ]
        }
      ]
    },
    {
      "cell_type": "markdown",
      "source": [
        "As you can see, for Norvig solution accuracy on my test cases is 0.28, while my checker obtains 0.56 (easy, I am better than Director of Research in Google). However, this is due to the reason that I do not correct \"right\" words, while Norvig solution tries to check every word. However, this is not the worst result and better dataset and further improvements should be used to evaluate this work deeper."
      ],
      "metadata": {
        "id": "A_XvkrDE2Kp5"
      }
    },
    {
      "cell_type": "markdown",
      "source": [
        "## Justification section\n",
        "\n",
        "1. I decided to use bigrams, because while looking through different N-grams I see that it is most frequent situation that such N gram from the test texts is not presented in the N gram probability tables. Of course, this is also the case for the bigrams, but it is less frequent. I assign the 1e-8 value for such cases. It allows to equally treat the cases for the unknown bigrams and operate with the QWERTY distance between the buttons on the keyboard (typos check)\n",
        "\n",
        "2. I decided to divide the value obtained by a euclidian distance between the buttons so that do not allow cases where one word chosen instead another just due to the reason that it is \"common\" typo. For example, if we type \"gyu\" it is pretty obvious for humans that we want to say \"guy\", not \"buy\". But, without any penalties for euclidian distance my program thinks that that \"buy\" is better than \"guy\" in such cases (and context doesn't help)\n",
        "\n",
        "3. Now let me say about bigrams itself. They are collected by group of smart people, however they are not really good and, maybe, requires a deep preprocessing to use. There are a lot of strange words in this bigrams with length 1-3 and they just make noise while predicting the candidate. They obtain scores, they are not so far from the word that we need to correct, and, therefore, while using k = 30 as number of candidates to generate out of these 30 candidates only about 5 are words that are really used in the lexicon. I tried different approaches, for example, nltk words, but, unfortunately, they face exactly the same issue, and, additionally, doesn't have the plural form of words, while these bigrams have. Additionally, I used 5grams, test it and decided to use only bigrams, because it is almost impossible to catch the context of 5 words so that it would be presented in the probability table. Or, another issue, for fivegrams probabilities would be usually 1 or 0, very rarely something between, what is also bad, because in such cases we pay to much attention to the 5gram presented in the dataset, but not necessary we want use it.\n",
        "\n",
        "Thank you very much for such a beatiful and interesting assignment! This is really sad, that due to the lots of other work I did not create something more interested and accurate system, but I obtain a general knowledge of how spell checker may be implemented in our mobile phones or other auto-correction systems!\n",
        "\n",
        "\n"
      ],
      "metadata": {
        "id": "2MkTjrzmvpIv"
      }
    },
    {
      "cell_type": "markdown",
      "metadata": {
        "id": "aNOEY-ijF3cW"
      },
      "source": [
        "  #### Useful resources (also included in the archive in moodle):\n",
        "\n",
        "1. [Possible dataset with N-grams](https://www.ngrams.info/download_coca.asp)\n",
        "2. [Damerau–Levenshtein distance](https://en.wikipedia.org/wiki/Damerau–Levenshtein_distance#:~:text=Informally%2C%20the%20Damerau–Levenshtein%20distance,one%20word%20into%20the%20other.)"
      ]
    }
  ],
  "metadata": {
    "colab": {
      "provenance": []
    },
    "kernelspec": {
      "display_name": "Python 3",
      "name": "python3"
    },
    "language_info": {
      "name": "python"
    }
  },
  "nbformat": 4,
  "nbformat_minor": 0
}